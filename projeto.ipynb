import os
from datetime import datetime

def mostrar_menu():
    print("\n=== Diário Pessoal ===")
    print("1. Escrever no diário")
    print("2. Ler o diário")
    print("3. Sair")

def escrever_no_diario():
    texto = input("Digite sua anotação: ")
    data_hora = datetime.now().strftime("%d/%m/%Y %H:%M:%S")
    with open("diario.txt", "a", encoding="utf-8") as arquivo:
        arquivo.write(f"[{data_hora}] {texto}\n")
    print("Anotação salva com sucesso!")

def ler_diario():
    if os.path.exists("diario.txt"):
        with open("diario.txt", "r", encoding="utf-8") as arquivo:
            linhas = arquivo.readlines()
            if linhas:
                print("\n=== Anotações Salvas ===")
                for linha in linhas:
                    print(linha.strip())
            else:
                print("O diário está vazio.")
    else:
        print("Ainda não há anotações. O arquivo diario.txt não existe.")

def main():
    while True:
        mostrar_menu()
        opcao = input("Escolha uma opção (1/2/3): ")
        
        if opcao == "1":
            escrever_no_diario()
        elif opcao == "2":
            ler_diario()
        elif opcao == "3":
            print("Saindo do diário. Até logo!")
            break
        else:
            print("Opção inválida. Tente novamente.")

if __name__ == "__main__":
    main()
